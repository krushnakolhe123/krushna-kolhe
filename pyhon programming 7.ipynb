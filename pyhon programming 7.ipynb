{
 "cells": [
  {
   "cell_type": "code",
   "execution_count": null,
   "id": "338a5925",
   "metadata": {},
   "outputs": [],
   "source": [
    "\n",
    "Assignment 7 Solutions\n",
    "1. Write a Python Program to find sum of Array ?\n",
    "def sumOfArray():\n",
    "    in_arr = eval(input(\"Enter the Array: \"))\n",
    "    print(f'The sum of {in_arr} is {sum(in_arr)}')\n",
    "\n",
    "sumOfArray()\n",
    "Enter the Array: [1,2,3,4,5]\n",
    "[1, 2, 3, 4, 5] <class 'list'>\n",
    "The sum of [1, 2, 3, 4, 5] is 15\n",
    "2. Write a Python Program to find Largest element in an Array ?\n",
    "def largestElement():\n",
    "    in_arr = eval(input(\"Enter the Array: \"))\n",
    "    print(f\"The Largest Element in {in_arr} is {sorted(in_arr, reverse=True)[0]}\")\n",
    "    \n",
    "largestElement()\n",
    "Enter the Array: [1,2,3,4,5]\n",
    "The Largest Element in [1, 2, 3, 4, 5] is 5\n",
    "3. Write a Python Program for array rotation ?\n",
    "def reverseOfArray():\n",
    "    in_arr = eval(input(\"Enter the Array: \"))\n",
    "    print(f\"The Reverse of Array {in_arr} is {in_arr[::-1]}\")\n",
    "    \n",
    "reverseOfArray()\n",
    "Enter the Array: [12,16,11,13,30]\n",
    "The Reverse of Array [12, 16, 11, 13, 30] is [30, 13, 11, 16, 12]\n",
    "4. Write a Python Program to Split the array and add the first part to the end ?\n",
    "def sumOfSplits():\n",
    "    in_arr = eval(input(\"Enter the Array: \"))\n",
    "    print(f\"The Sum of First and Last Elements of Array {in_arr} is {in_arr[0]+in_arr[-1]}\")\n",
    "    \n",
    "sumOfSplits()\n",
    "Enter the Array: [10,13,14,9,18]\n",
    "The Sum of First and Last Elements of Array [10, 13, 14, 9, 18] is 28\n",
    "5. Write a Python Program to check if given array is Monotonic ?\n",
    "def checkMonotonic():\n",
    "    in_arr = eval(input(\"Enter the Array: \"))\n",
    "    if(all(in_arr[i]<=in_arr[i+1] for i in range(len(in_arr)-1)) or all(in_arr[i]>=in_arr[i+1] for i in range(len(in_arr)-1))):\n",
    "        print(f'Array {in_arr} is Monotonic')\n",
    "    else:\n",
    "        print(f'Array {in_arr} is Not Monotonic')\n",
    "\n",
    "checkMonotonic()\n",
    "checkMonotonic()\n",
    "Enter the Array: [1,2,3,4,5]\n",
    "Array [1, 2, 3, 4, 5] is Monotonic\n",
    "Enter the Array: 4,2,4,5,6,1\n",
    "Array (4, 2, 4, 5, 6, 1) is Not Monotonic"
   ]
  }
 ],
 "metadata": {
  "kernelspec": {
   "display_name": "Python 3 (ipykernel)",
   "language": "python",
   "name": "python3"
  },
  "language_info": {
   "codemirror_mode": {
    "name": "ipython",
    "version": 3
   },
   "file_extension": ".py",
   "mimetype": "text/x-python",
   "name": "python",
   "nbconvert_exporter": "python",
   "pygments_lexer": "ipython3",
   "version": "3.9.13"
  }
 },
 "nbformat": 4,
 "nbformat_minor": 5
}
